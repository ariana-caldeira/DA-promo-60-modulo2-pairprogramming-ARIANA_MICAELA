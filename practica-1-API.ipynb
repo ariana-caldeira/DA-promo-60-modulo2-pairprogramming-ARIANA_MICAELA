{
 "cells": [
  {
   "cell_type": "markdown",
   "id": "f7a327ef",
   "metadata": {},
   "source": [
    "### 1. Extraer información de las alumnas:\n",
    "- Usa este endpoint: \"https://beta.adalab.es/curso-intensivo-fullstack-recursos/apis/alumnos-v1/alumnos.json\" para hacer la llamada a la API.\n",
    "**Nota:** no requiere api_key ni registro, se puede llamar directamente.\n",
    "- Extrae de los resultados:\n",
    "    - Número de expediente\n",
    "    - Nombre\n",
    "    - Apellido\n",
    "- Convierte los datos extraidos en un Dataframe de pandas"
   ]
  },
  {
   "cell_type": "code",
   "execution_count": 47,
   "id": "be978982",
   "metadata": {},
   "outputs": [],
   "source": [
    "import requests\n",
    "import pandas as pd"
   ]
  },
  {
   "cell_type": "code",
   "execution_count": 48,
   "id": "8967e1fd",
   "metadata": {},
   "outputs": [],
   "source": [
    "url = \"https://beta.adalab.es/curso-intensivo-fullstack-recursos/apis/alumnos-v1/alumnos.json\""
   ]
  },
  {
   "cell_type": "code",
   "execution_count": 49,
   "id": "e22afd97",
   "metadata": {},
   "outputs": [],
   "source": [
    "res = requests.get(url)"
   ]
  },
  {
   "cell_type": "code",
   "execution_count": 50,
   "id": "12e39a22",
   "metadata": {},
   "outputs": [
    {
     "data": {
      "text/plain": [
       "200"
      ]
     },
     "execution_count": 50,
     "metadata": {},
     "output_type": "execute_result"
    }
   ],
   "source": [
    "res.status_code"
   ]
  },
  {
   "cell_type": "code",
   "execution_count": 51,
   "id": "29971ca3",
   "metadata": {},
   "outputs": [
    {
     "data": {
      "text/plain": [
       "b'{\\n    \"info\": {\\n        \"count\": 20,\\n        \"pages\": 1,\\n        \"currentPage\": 1,\\n        \"next\": null,\\n        \"prev\": null\\n    },\\n    \"results\": [\\n        {\\n            \"num_expediente\": 1001,\\n            \"nombre\": \"Ana\",\\n            \"apellidos\": \"Mart\\xc3\\xadnez\",\\n            \"fecha_nacimiento\": \"2005-03-15\"\\n        },\\n        {\\n            \"num_expediente\": 1002,\\n            \"nombre\": \"Luis\",\\n            \"apellidos\": \"Fern\\xc3\\xa1ndez\",\\n            \"fecha_nacimiento\": \"2004-11-22\"\\n        },\\n        {\\n            \"num_expediente\": 1003,\\n            \"nombre\": \"Clara\",\\n            \"apellidos\": \"Ruiz\",\\n            \"fecha_nacimiento\": \"2006-01-10\"\\n        },\\n        {\\n            \"num_expediente\": 1004,\\n            \"nombre\": \"Pedro\",\\n            \"apellidos\": \"S\\xc3\\xa1nchez\",\\n            \"fecha_nacimiento\": \"2005-07-08\"\\n        },\\n        {\\n            \"num_expediente\": 1005,\\n            \"nombre\": \"Luc\\xc3\\xada\",\\n            \"apellidos\": \"Torres\",\\n            \"fecha_nacimiento\": \"2004-09-18\"\\n        },\\n        {\\n            \"num_expediente\": 1006,\\n            \"nombre\": \"Javier\",\\n            \"apellidos\": \"Gonz\\xc3\\xa1lez\",\\n            \"fecha_nacimiento\": \"2006-06-24\"\\n        },\\n        {\\n            \"num_expediente\": 1007,\\n            \"nombre\": \"Mar\\xc3\\xada\",\\n            \"apellidos\": \"L\\xc3\\xb3pez\",\\n            \"fecha_nacimiento\": \"2005-04-10\"\\n        },\\n        {\\n            \"num_expediente\": 1008,\\n            \"nombre\": \"David\",\\n            \"apellidos\": \"P\\xc3\\xa9rez\",\\n            \"fecha_nacimiento\": \"2004-12-12\"\\n        },\\n        {\\n            \"num_expediente\": 1009,\\n            \"nombre\": \"Sara\",\\n            \"apellidos\": \"Garc\\xc3\\xada\",\\n            \"fecha_nacimiento\": \"2005-08-15\"\\n        },\\n        {\\n            \"num_expediente\": 1010,\\n            \"nombre\": \"Ricardo\",\\n            \"apellidos\": \"Mart\\xc3\\xadn\",\\n            \"fecha_nacimiento\": \"2006-03-22\"\\n        },\\n        {\\n            \"num_expediente\": 1011,\\n            \"nombre\": \"Alba\",\\n            \"apellidos\": \"V\\xc3\\xa1zquez\",\\n            \"fecha_nacimiento\": \"2004-05-05\"\\n        },\\n        {\\n            \"num_expediente\": 1012,\\n            \"nombre\": \"Carlos\",\\n            \"apellidos\": \"Serrano\",\\n            \"fecha_nacimiento\": \"2005-02-28\"\\n        },\\n        {\\n            \"num_expediente\": 1013,\\n            \"nombre\": \"Elena\",\\n            \"apellidos\": \"Ram\\xc3\\xadrez\",\\n            \"fecha_nacimiento\": \"2006-08-01\"\\n        },\\n        {\\n            \"num_expediente\": 1014,\\n            \"nombre\": \"Iv\\xc3\\xa1n\",\\n            \"apellidos\": \"Hern\\xc3\\xa1ndez\",\\n            \"fecha_nacimiento\": \"2005-10-30\"\\n        },\\n        {\\n            \"num_expediente\": 1015,\\n            \"nombre\": \"Laura\",\\n            \"apellidos\": \"Jim\\xc3\\xa9nez\",\\n            \"fecha_nacimiento\": \"2004-07-14\"\\n        },\\n        {\\n            \"num_expediente\": 1016,\\n            \"nombre\": \"Tom\\xc3\\xa1s\",\\n            \"apellidos\": \"L\\xc3\\xb3pez\",\\n            \"fecha_nacimiento\": \"2005-12-18\"\\n        },\\n        {\\n            \"num_expediente\": 1017,\\n            \"nombre\": \"Paula\",\\n            \"apellidos\": \"Fern\\xc3\\xa1ndez\",\\n            \"fecha_nacimiento\": \"2006-02-06\"\\n        },\\n        {\\n            \"num_expediente\": 1018,\\n            \"nombre\": \"Mario\",\\n            \"apellidos\": \"D\\xc3\\xadaz\",\\n            \"fecha_nacimiento\": \"2004-11-30\"\\n        },\\n        {\\n            \"num_expediente\": 1019,\\n            \"nombre\": \"Raquel\",\\n            \"apellidos\": \"Gonz\\xc3\\xa1lez\",\\n            \"fecha_nacimiento\": \"2005-09-23\"\\n        },\\n        {\\n            \"num_expediente\": 1020,\\n            \"nombre\": \"Jorge\",\\n            \"apellidos\": \"\\xc3\\x81lvarez\",\\n            \"fecha_nacimiento\": \"2006-05-17\"\\n        }\\n    ]\\n}'"
      ]
     },
     "execution_count": 51,
     "metadata": {},
     "output_type": "execute_result"
    }
   ],
   "source": [
    "res.content"
   ]
  },
  {
   "cell_type": "code",
   "execution_count": 52,
   "id": "bd5fe9a3",
   "metadata": {},
   "outputs": [],
   "source": [
    "data = res.json() #da error el 0\n",
    "\n",
    "#data = res"
   ]
  },
  {
   "cell_type": "code",
   "execution_count": 53,
   "id": "aab8632f",
   "metadata": {},
   "outputs": [
    {
     "data": {
      "text/plain": [
       "dict"
      ]
     },
     "execution_count": 53,
     "metadata": {},
     "output_type": "execute_result"
    }
   ],
   "source": [
    "type(res.json())"
   ]
  },
  {
   "cell_type": "code",
   "execution_count": 54,
   "id": "9091a569",
   "metadata": {},
   "outputs": [
    {
     "data": {
      "text/plain": [
       "2"
      ]
     },
     "execution_count": 54,
     "metadata": {},
     "output_type": "execute_result"
    }
   ],
   "source": [
    "len(data)"
   ]
  },
  {
   "cell_type": "code",
   "execution_count": 55,
   "id": "1e3ab022",
   "metadata": {},
   "outputs": [
    {
     "data": {
      "text/plain": [
       "{'info': {'count': 20,\n",
       "  'pages': 1,\n",
       "  'currentPage': 1,\n",
       "  'next': None,\n",
       "  'prev': None},\n",
       " 'results': [{'num_expediente': 1001,\n",
       "   'nombre': 'Ana',\n",
       "   'apellidos': 'Martínez',\n",
       "   'fecha_nacimiento': '2005-03-15'},\n",
       "  {'num_expediente': 1002,\n",
       "   'nombre': 'Luis',\n",
       "   'apellidos': 'Fernández',\n",
       "   'fecha_nacimiento': '2004-11-22'},\n",
       "  {'num_expediente': 1003,\n",
       "   'nombre': 'Clara',\n",
       "   'apellidos': 'Ruiz',\n",
       "   'fecha_nacimiento': '2006-01-10'},\n",
       "  {'num_expediente': 1004,\n",
       "   'nombre': 'Pedro',\n",
       "   'apellidos': 'Sánchez',\n",
       "   'fecha_nacimiento': '2005-07-08'},\n",
       "  {'num_expediente': 1005,\n",
       "   'nombre': 'Lucía',\n",
       "   'apellidos': 'Torres',\n",
       "   'fecha_nacimiento': '2004-09-18'},\n",
       "  {'num_expediente': 1006,\n",
       "   'nombre': 'Javier',\n",
       "   'apellidos': 'González',\n",
       "   'fecha_nacimiento': '2006-06-24'},\n",
       "  {'num_expediente': 1007,\n",
       "   'nombre': 'María',\n",
       "   'apellidos': 'López',\n",
       "   'fecha_nacimiento': '2005-04-10'},\n",
       "  {'num_expediente': 1008,\n",
       "   'nombre': 'David',\n",
       "   'apellidos': 'Pérez',\n",
       "   'fecha_nacimiento': '2004-12-12'},\n",
       "  {'num_expediente': 1009,\n",
       "   'nombre': 'Sara',\n",
       "   'apellidos': 'García',\n",
       "   'fecha_nacimiento': '2005-08-15'},\n",
       "  {'num_expediente': 1010,\n",
       "   'nombre': 'Ricardo',\n",
       "   'apellidos': 'Martín',\n",
       "   'fecha_nacimiento': '2006-03-22'},\n",
       "  {'num_expediente': 1011,\n",
       "   'nombre': 'Alba',\n",
       "   'apellidos': 'Vázquez',\n",
       "   'fecha_nacimiento': '2004-05-05'},\n",
       "  {'num_expediente': 1012,\n",
       "   'nombre': 'Carlos',\n",
       "   'apellidos': 'Serrano',\n",
       "   'fecha_nacimiento': '2005-02-28'},\n",
       "  {'num_expediente': 1013,\n",
       "   'nombre': 'Elena',\n",
       "   'apellidos': 'Ramírez',\n",
       "   'fecha_nacimiento': '2006-08-01'},\n",
       "  {'num_expediente': 1014,\n",
       "   'nombre': 'Iván',\n",
       "   'apellidos': 'Hernández',\n",
       "   'fecha_nacimiento': '2005-10-30'},\n",
       "  {'num_expediente': 1015,\n",
       "   'nombre': 'Laura',\n",
       "   'apellidos': 'Jiménez',\n",
       "   'fecha_nacimiento': '2004-07-14'},\n",
       "  {'num_expediente': 1016,\n",
       "   'nombre': 'Tomás',\n",
       "   'apellidos': 'López',\n",
       "   'fecha_nacimiento': '2005-12-18'},\n",
       "  {'num_expediente': 1017,\n",
       "   'nombre': 'Paula',\n",
       "   'apellidos': 'Fernández',\n",
       "   'fecha_nacimiento': '2006-02-06'},\n",
       "  {'num_expediente': 1018,\n",
       "   'nombre': 'Mario',\n",
       "   'apellidos': 'Díaz',\n",
       "   'fecha_nacimiento': '2004-11-30'},\n",
       "  {'num_expediente': 1019,\n",
       "   'nombre': 'Raquel',\n",
       "   'apellidos': 'González',\n",
       "   'fecha_nacimiento': '2005-09-23'},\n",
       "  {'num_expediente': 1020,\n",
       "   'nombre': 'Jorge',\n",
       "   'apellidos': 'Álvarez',\n",
       "   'fecha_nacimiento': '2006-05-17'}]}"
      ]
     },
     "execution_count": 55,
     "metadata": {},
     "output_type": "execute_result"
    }
   ],
   "source": [
    "data"
   ]
  },
  {
   "cell_type": "code",
   "execution_count": 56,
   "id": "afc34d81",
   "metadata": {},
   "outputs": [
    {
     "data": {
      "text/plain": [
       "dict_keys(['info', 'results'])"
      ]
     },
     "execution_count": 56,
     "metadata": {},
     "output_type": "execute_result"
    }
   ],
   "source": [
    "data.keys()"
   ]
  },
  {
   "cell_type": "code",
   "execution_count": null,
   "id": "be7219ad",
   "metadata": {},
   "outputs": [
    {
     "data": {
      "text/plain": [
       "1001"
      ]
     },
     "execution_count": 63,
     "metadata": {},
     "output_type": "execute_result"
    }
   ],
   "source": [
    "data[\"results\"][0][\"num_expediente\"]"
   ]
  },
  {
   "cell_type": "code",
   "execution_count": 69,
   "id": "0de166cc",
   "metadata": {},
   "outputs": [],
   "source": [
    "lista_expedientes = data[\"results\"]"
   ]
  },
  {
   "cell_type": "code",
   "execution_count": 73,
   "id": "a441bb4e",
   "metadata": {},
   "outputs": [
    {
     "name": "stdout",
     "output_type": "stream",
     "text": [
      "1001 Ana Martínez\n",
      "1002 Luis Fernández\n",
      "1003 Clara Ruiz\n",
      "1004 Pedro Sánchez\n",
      "1005 Lucía Torres\n",
      "1006 Javier González\n",
      "1007 María López\n",
      "1008 David Pérez\n",
      "1009 Sara García\n",
      "1010 Ricardo Martín\n",
      "1011 Alba Vázquez\n",
      "1012 Carlos Serrano\n",
      "1013 Elena Ramírez\n",
      "1014 Iván Hernández\n",
      "1015 Laura Jiménez\n",
      "1016 Tomás López\n",
      "1017 Paula Fernández\n",
      "1018 Mario Díaz\n",
      "1019 Raquel González\n",
      "1020 Jorge Álvarez\n"
     ]
    }
   ],
   "source": [
    "for x in data[\"results\"]:\n",
    "    print(x[\"num_expediente\"], x[\"nombre\"], x[\"apellidos\"])"
   ]
  },
  {
   "cell_type": "code",
   "execution_count": 72,
   "id": "bcf3555c",
   "metadata": {},
   "outputs": [
    {
     "name": "stdout",
     "output_type": "stream",
     "text": [
      "1001 Ana Martínez\n",
      "1002 Luis Fernández\n",
      "1003 Clara Ruiz\n",
      "1004 Pedro Sánchez\n",
      "1005 Lucía Torres\n",
      "1006 Javier González\n",
      "1007 María López\n",
      "1008 David Pérez\n",
      "1009 Sara García\n",
      "1010 Ricardo Martín\n",
      "1011 Alba Vázquez\n",
      "1012 Carlos Serrano\n",
      "1013 Elena Ramírez\n",
      "1014 Iván Hernández\n",
      "1015 Laura Jiménez\n",
      "1016 Tomás López\n",
      "1017 Paula Fernández\n",
      "1018 Mario Díaz\n",
      "1019 Raquel González\n",
      "1020 Jorge Álvarez\n"
     ]
    }
   ],
   "source": [
    "for x in lista_expedientes:\n",
    "    print(x[\"num_expediente\"], x[\"nombre\"], x[\"apellidos\"])"
   ]
  }
 ],
 "metadata": {
  "kernelspec": {
   "display_name": "base",
   "language": "python",
   "name": "python3"
  },
  "language_info": {
   "codemirror_mode": {
    "name": "ipython",
    "version": 3
   },
   "file_extension": ".py",
   "mimetype": "text/x-python",
   "name": "python",
   "nbconvert_exporter": "python",
   "pygments_lexer": "ipython3",
   "version": "3.13.5"
  }
 },
 "nbformat": 4,
 "nbformat_minor": 5
}
